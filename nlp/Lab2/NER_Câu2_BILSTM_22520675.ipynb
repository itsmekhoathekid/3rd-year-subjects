{
 "cells": [
  {
   "cell_type": "code",
   "execution_count": 1,
   "metadata": {
    "id": "lGF3COX7g8DC"
   },
   "outputs": [],
   "source": [
    "import pandas as pd\n",
    "import numpy as np\n",
    "from torch.utils.data import Dataset, DataLoader, TensorDataset\n",
    "import torch\n",
    "import torch.nn as nn\n",
    "from tqdm import tqdm\n",
    "from sklearn.model_selection import train_test_split\n",
    "from sklearn.metrics import accuracy_score, precision_score, recall_score, f1_score\n",
    "import torch.optim as optim\n",
    "import matplotlib.pyplot as plt\n",
    "from tensorflow.keras.preprocessing.sequence import pad_sequences"
   ]
  },
  {
   "cell_type": "code",
   "execution_count": 2,
   "metadata": {
    "colab": {
     "base_uri": "https://localhost:8080/"
    },
    "id": "oZzt4LYahJel",
    "outputId": "f4d23601-7a78-409d-8639-9ff9fc7fee27"
   },
   "outputs": [
    {
     "name": "stdout",
     "output_type": "stream",
     "text": [
      "Downloading...\n",
      "From: https://drive.google.com/uc?id=1MGOpGIl9-bBU1zbYJcD7OCE_2t3eSUsX\n",
      "To: /content/train_word.json\n",
      "100% 2.32M/2.32M [00:00<00:00, 134MB/s]\n",
      "Downloading...\n",
      "From: https://drive.google.com/uc?id=1e2s-OOu18iC2dvCA6_GDfiD85PChx3R3\n",
      "To: /content/test_word.json\n",
      "100% 1.54M/1.54M [00:00<00:00, 50.0MB/s]\n"
     ]
    }
   ],
   "source": [
    "!gdown 1MGOpGIl9-bBU1zbYJcD7OCE_2t3eSUsX\n",
    "!gdown 1e2s-OOu18iC2dvCA6_GDfiD85PChx3R3\n",
    "# !gdown"
   ]
  },
  {
   "cell_type": "code",
   "execution_count": 3,
   "metadata": {
    "id": "gIvtaAAcg8DD"
   },
   "outputs": [],
   "source": [
    "train_word = pd.read_json(r\"/content/train_word.json\",  encoding='utf-8', lines = True)\n",
    "test_word = pd.read_json(r\"/content/test_word.json\",  encoding='utf-8', lines = True)\n",
    "# dev_word = pd.read_json(r\"C:\\Users\\VIET HOANG - VTS\\Downloads\\PhoNER_COVID19-main\\PhoNER_COVID19-main\\data\\word\\dev_word.json\",  encoding='utf-8', lines = True)"
   ]
  },
  {
   "cell_type": "code",
   "execution_count": null,
   "metadata": {
    "id": "83h9ouWbkJwt"
   },
   "outputs": [],
   "source": [
    "# thêm tập test vô word2idx"
   ]
  },
  {
   "cell_type": "code",
   "execution_count": null,
   "metadata": {
    "id": "7bQB1Bt5g8DE"
   },
   "outputs": [],
   "source": [
    "import numpy as np\n",
    "import torch\n",
    "from torch.utils.data import Dataset\n",
    "from keras.preprocessing.sequence import pad_sequences\n",
    "\n",
    "class VNerDataset(Dataset):\n",
    "    def __init__(self, data_json, max_len=50, pad_token='<PAD>', unk_token='<UNK>', o_tag='O'):\n",
    "        self.data = data_json\n",
    "        self.max_len = max_len\n",
    "        self.pad_token = pad_token\n",
    "        self.unk_token = unk_token\n",
    "        self.o_tag = o_tag\n",
    "\n",
    "        # Khởi tạo từ điển từ và nhãn\n",
    "        self.vocab2idx = self.build_vocab2idx()\n",
    "        self.tag2idx = self.build_tag2idx()\n",
    "\n",
    "    def build_vocab(self):\n",
    "        data = pd.read_json(r\"/content/train_word.json\",  encoding='utf-8', lines = True)\n",
    "        vocab = set(word for sentence in data['words'] for word in sentence)\n",
    "        data2 = pd.read_json(r\"/content/test_word.json\",  encoding='utf-8', lines = True)\n",
    "        vocab2 = set(word for sentence in data2['words'] for word in sentence)\n",
    "        vocab = vocab.union(vocab2)\n",
    "\n",
    "        return vocab\n",
    "\n",
    "    def build_tag(self):\n",
    "        tags = set(tag for tags in self.data['tags'] for tag in tags)\n",
    "        return tags\n",
    "\n",
    "    def build_tag2idx(self):\n",
    "        tag2idx = {tag: i for i, tag in enumerate(self.build_tag())}\n",
    "        return tag2idx\n",
    "\n",
    "    def build_vocab2idx(self):\n",
    "        vocab2idx = {vocab: i for i, vocab in enumerate(self.build_vocab())}\n",
    "        vocab2idx[self.pad_token] = len(vocab2idx)\n",
    "        vocab2idx[self.unk_token] = len(vocab2idx) + 1\n",
    "        return vocab2idx\n",
    "\n",
    "    def encode_data(self):\n",
    "        X, y = [], []\n",
    "        for words, tags in zip(self.data['words'], self.data['tags']):\n",
    "            word_ids = [self.vocab2idx.get(word, self.vocab2idx[self.unk_token]) for word in words]\n",
    "            tag_ids = [self.tag2idx[tag] for tag in tags]\n",
    "\n",
    "            # Padding cho mỗi câu\n",
    "            word_ids = pad_sequences([word_ids], maxlen=self.max_len, padding='post', value=self.vocab2idx[self.pad_token])[0]\n",
    "            tag_ids = pad_sequences([tag_ids], maxlen=self.max_len, padding='post', value=self.tag2idx[self.o_tag])[0]\n",
    "\n",
    "            X.append(word_ids)\n",
    "            y.append(tag_ids)\n",
    "\n",
    "\n",
    "        return torch.tensor(X, dtype=torch.long), torch.tensor(y, dtype=torch.long)\n",
    "\n",
    "    def __len__(self):\n",
    "        return len(self.data)\n",
    "    \n",
    "    def __getitem__(self, idx):\n",
    "        words, tags = self.data['words'][idx], self.data['tags'][idx]\n",
    "        word_ids = [self.vocab2idx.get(word, self.vocab2idx[self.unk_token]) for word in words]\n",
    "        tag_ids = [self.tag2idx[tag] for tag in tags]\n",
    "\n",
    "        word_ids = pad_sequences([word_ids], maxlen=self.max_len, padding='post', value=self.vocab2idx[self.pad_token])[0]\n",
    "        tag_ids = pad_sequences([tag_ids], maxlen=self.max_len, padding='post', value=self.tag2idx[self.o_tag])[0]\n",
    "        \n",
    "        return torch.tensor(word_ids, dtype=torch.long), torch.tensor(tag_ids, dtype=torch.long)"
   ]
  },
  {
   "cell_type": "code",
   "execution_count": null,
   "metadata": {
    "id": "0AB5ya9lg8DG"
   },
   "outputs": [],
   "source": [
    "class BiLSTM(nn.Module):\n",
    "    def __init__(self, vocab_size, embedding_dim, hidden_size, num_classes, num_layers=1, pad_idx=0):\n",
    "        super(BiLSTM, self).__init__()\n",
    "\n",
    "        self.embedding = nn.Embedding(vocab_size, embedding_dim, padding_idx=pad_idx)\n",
    "        self.bilstm = nn.LSTM(embedding_dim, hidden_size, num_layers=num_layers,\n",
    "                              bidirectional=True, batch_first=True)\n",
    "        self.fc = nn.Linear(hidden_size * 2, num_classes)\n",
    "    \n",
    "    def forward(self, x):\n",
    "        embedded = self.embedding(x)\n",
    "        lstm_out, _ = self.bilstm(embedded)\n",
    "        logits = self.fc(lstm_out)\n",
    "        return logits"
   ]
  },
  {
   "cell_type": "code",
   "execution_count": 6,
   "metadata": {
    "id": "yDYYICFbg8DH"
   },
   "outputs": [],
   "source": [
    "\n",
    "train_dataset = VNerDataset(train_word, max_len=50)\n",
    "test_dataset = VNerDataset(test_word, max_len=50)\n",
    "# dev_dataset = VNerDataset(dev_word, max_len=50)\n",
    "\n",
    "train_loader = DataLoader(train_dataset, batch_size=32, shuffle=True)\n",
    "test_loader = DataLoader(test_dataset, batch_size=32, shuffle=False)\n",
    "# dev_loader = DataLoader(dev_dataset, batch_size=32, shuffle=False)"
   ]
  },
  {
   "cell_type": "code",
   "execution_count": 7,
   "metadata": {
    "id": "bHusie8Lg8DI"
   },
   "outputs": [],
   "source": [
    "num_words = len(train_dataset.vocab2idx)\n",
    "num_tags = len(train_dataset.tag2idx)"
   ]
  },
  {
   "cell_type": "code",
   "execution_count": 8,
   "metadata": {
    "id": "XJOPWIW1g8DJ"
   },
   "outputs": [],
   "source": [
    "device = torch.device(\"cuda\" if torch.cuda.is_available() else \"cpu\")"
   ]
  },
  {
   "cell_type": "code",
   "execution_count": 9,
   "metadata": {
    "colab": {
     "base_uri": "https://localhost:8080/"
    },
    "id": "cGgOiMmUg8DJ",
    "outputId": "bdd6237f-7a36-4e13-ee3d-cb43b8a6ca32"
   },
   "outputs": [
    {
     "name": "stdout",
     "output_type": "stream",
     "text": [
      "7254 20\n"
     ]
    }
   ],
   "source": [
    "print(num_words, num_tags)"
   ]
  },
  {
   "cell_type": "code",
   "execution_count": null,
   "metadata": {
    "colab": {
     "base_uri": "https://localhost:8080/"
    },
    "id": "6PG2p2cVg8DK",
    "outputId": "1bd19feb-6bdf-4a7f-e54c-d09edeb26e72"
   },
   "outputs": [
    {
     "name": "stdout",
     "output_type": "stream",
     "text": [
      "Epoch 1:\n"
     ]
    },
    {
     "name": "stderr",
     "output_type": "stream",
     "text": [
      "training: 100%|██████████| 158/158 [00:11<00:00, 13.60it/s]\n"
     ]
    },
    {
     "name": "stdout",
     "output_type": "stream",
     "text": [
      "Epoch 2:\n"
     ]
    },
    {
     "name": "stderr",
     "output_type": "stream",
     "text": [
      "training: 100%|██████████| 158/158 [00:10<00:00, 15.34it/s]\n"
     ]
    },
    {
     "name": "stdout",
     "output_type": "stream",
     "text": [
      "Epoch 3:\n"
     ]
    },
    {
     "name": "stderr",
     "output_type": "stream",
     "text": [
      "training: 100%|██████████| 158/158 [00:10<00:00, 14.70it/s]\n"
     ]
    },
    {
     "name": "stdout",
     "output_type": "stream",
     "text": [
      "Epoch 4:\n"
     ]
    },
    {
     "name": "stderr",
     "output_type": "stream",
     "text": [
      "training: 100%|██████████| 158/158 [00:11<00:00, 13.41it/s]\n"
     ]
    },
    {
     "name": "stdout",
     "output_type": "stream",
     "text": [
      "Epoch 5:\n"
     ]
    },
    {
     "name": "stderr",
     "output_type": "stream",
     "text": [
      "training: 100%|██████████| 158/158 [00:12<00:00, 13.03it/s]\n"
     ]
    },
    {
     "name": "stdout",
     "output_type": "stream",
     "text": [
      "Epoch 6:\n"
     ]
    },
    {
     "name": "stderr",
     "output_type": "stream",
     "text": [
      "training: 100%|██████████| 158/158 [00:12<00:00, 12.87it/s]\n"
     ]
    },
    {
     "name": "stdout",
     "output_type": "stream",
     "text": [
      "Epoch 7:\n"
     ]
    },
    {
     "name": "stderr",
     "output_type": "stream",
     "text": [
      "training: 100%|██████████| 158/158 [00:11<00:00, 13.24it/s]\n"
     ]
    },
    {
     "name": "stdout",
     "output_type": "stream",
     "text": [
      "Epoch 8:\n"
     ]
    },
    {
     "name": "stderr",
     "output_type": "stream",
     "text": [
      "training: 100%|██████████| 158/158 [00:11<00:00, 14.19it/s]\n"
     ]
    },
    {
     "name": "stdout",
     "output_type": "stream",
     "text": [
      "Epoch 9:\n"
     ]
    },
    {
     "name": "stderr",
     "output_type": "stream",
     "text": [
      "training: 100%|██████████| 158/158 [00:11<00:00, 13.26it/s]\n"
     ]
    },
    {
     "name": "stdout",
     "output_type": "stream",
     "text": [
      "Epoch 10:\n"
     ]
    },
    {
     "name": "stderr",
     "output_type": "stream",
     "text": [
      "training: 100%|██████████| 158/158 [00:13<00:00, 11.77it/s]\n"
     ]
    }
   ],
   "source": [
    "model1 = BiLSTM(vocab_size = num_words, embedding_dim= 50, hidden_size = 100, num_classes = num_tags).to(device)\n",
    "# Initialize optimizer and loss function\n",
    "optimizer = optim.Adam(model1.parameters(), lr=3e-4)  # Learning rate set to 0.0003\n",
    "loss_fn = nn.CrossEntropyLoss()\n",
    "\n",
    "# Training loop\n",
    "for epoch in range(10):\n",
    "    print(f\"Epoch {epoch + 1}:\")\n",
    "    model1.train()\n",
    "    for batch_item in tqdm(train_loader, desc=\"training\"):\n",
    "        word, label = batch_item\n",
    "        word, label = word.to(device), label.to(device)\n",
    "        \n",
    "        # Forward pass\n",
    "        outputs = model1(word)\n",
    "        outputs = outputs.view(-1, outputs.size(-1))  # (batch_size * sequence_length, num_classes)\n",
    "        labels = label.view(-1)  # (batch_size * sequence_length)\n",
    "\n",
    "        # Tính toán loss\n",
    "        loss = loss_fn(outputs, labels)\n",
    "\n",
    "        # Backward pass and optimization\n",
    "        optimizer.zero_grad()\n",
    "        loss.backward()\n",
    "        optimizer.step()\n"
   ]
  },
  {
   "cell_type": "code",
   "execution_count": 11,
   "metadata": {
    "colab": {
     "base_uri": "https://localhost:8080/"
    },
    "id": "8boMnzcng8DM",
    "outputId": "fb497541-dc20-4993-c7c7-ac986fc42d1a"
   },
   "outputs": [
    {
     "name": "stdout",
     "output_type": "stream",
     "text": [
      "/bin/bash: line 1: nvidia-smi: command not found\n"
     ]
    }
   ],
   "source": [
    "!nvidia-smi"
   ]
  },
  {
   "cell_type": "code",
   "execution_count": null,
   "metadata": {
    "colab": {
     "base_uri": "https://localhost:8080/"
    },
    "id": "NKnDnlgyg8DN",
    "outputId": "3d4b5934-923f-4c5c-f0d9-82cb38788265"
   },
   "outputs": [
    {
     "name": "stdout",
     "output_type": "stream",
     "text": [
      "Classification Report:\n",
      "              precision    recall  f1-score   support\n",
      "\n",
      "           1       1.00      0.00      0.00       551\n",
      "           2       0.00      0.00      0.00       114\n",
      "           3       1.00      0.00      0.00      1128\n",
      "           4       0.58      0.01      0.02      4832\n",
      "           5       0.00      0.00      0.00      1930\n",
      "           6       1.00      0.00      0.00       309\n",
      "           7       0.00      0.00      0.00      1474\n",
      "           8       0.00      0.00      0.00       715\n",
      "           9       0.00      0.00      0.00      1898\n",
      "          10       1.00      0.00      0.00        68\n",
      "          11       1.00      0.00      0.00       427\n",
      "          12       1.00      0.00      0.00        13\n",
      "          13       1.00      0.00      0.00        27\n",
      "          14       1.00      0.00      0.00      4354\n",
      "          15       1.00      0.00      0.00       190\n",
      "          16       0.86      0.80      0.83    128574\n",
      "          17       0.00      0.00      0.00      1639\n",
      "          18       1.00      0.00      0.00         6\n",
      "          19       0.01      0.26      0.03      1582\n",
      "\n",
      "    accuracy                           0.69    149831\n",
      "   macro avg       0.60      0.06      0.05    149831\n",
      "weighted avg       0.80      0.69      0.71    149831\n",
      "\n",
      "Micro F1-score: 0.6927538359885471\n",
      "Macro F1-score: 0.04608411634659435\n",
      "Overall Accuracy: 0.6927538359885471\n"
     ]
    }
   ],
   "source": [
    "from sklearn.metrics import classification_report, f1_score, accuracy_score\n",
    "import os\n",
    "# os.environ[\"CUDA_LAUNCH_BLOCKING\"] = \"1\"\n",
    "\n",
    "model1.eval()\n",
    "all_predictions = []\n",
    "all_labels = []\n",
    "\n",
    "with torch.no_grad():\n",
    "    for batch_item in test_loader:\n",
    "        x_batch, y_batch = batch_item\n",
    "        x_batch, y_batch = x_batch.to(device), y_batch.to(device)\n",
    "\n",
    "        outputs = model1(y_batch)\n",
    "\n",
    "        _, predicted = torch.max(outputs, dim=2)\n",
    "\n",
    "        mask = (y_batch != 0)\n",
    "        filtered_preds = predicted[mask].cpu().numpy()\n",
    "        filtered_labels = y_batch[mask].cpu().numpy()\n",
    "\n",
    "        all_predictions.extend(filtered_preds)\n",
    "        all_labels.extend(filtered_labels)\n",
    "\n",
    "print(\"Classification Report:\")\n",
    "print(classification_report(all_labels, all_predictions, zero_division=1))\n",
    "\n",
    "f1_micro = f1_score(all_labels, all_predictions, average='micro')\n",
    "f1_macro = f1_score(all_labels, all_predictions, average='macro')\n",
    "accuracy = accuracy_score(all_labels, all_predictions)\n",
    "\n",
    "print(f\"Micro F1-score: {f1_micro}\")\n",
    "print(f\"Macro F1-score: {f1_macro}\")\n",
    "print(f\"Overall Accuracy: {accuracy}\")"
   ]
  },
  {
   "cell_type": "code",
   "execution_count": 13,
   "metadata": {
    "colab": {
     "base_uri": "https://localhost:8080/"
    },
    "id": "J86bXSZpiYcq",
    "outputId": "820d6c1f-31b1-4971-b82e-a807b976f290"
   },
   "outputs": [
    {
     "name": "stdout",
     "output_type": "stream",
     "text": [
      "mo hinh da duoc luu!\n"
     ]
    }
   ],
   "source": [
    "torch.save(model1.state_dict(), 'nlp2_model.pth')\n",
    "print(\"mo hinh da duoc luu!\")"
   ]
  }
 ],
 "metadata": {
  "colab": {
   "provenance": []
  },
  "kernelspec": {
   "display_name": "cuda",
   "language": "python",
   "name": "python3"
  },
  "language_info": {
   "codemirror_mode": {
    "name": "ipython",
    "version": 3
   },
   "file_extension": ".py",
   "mimetype": "text/x-python",
   "name": "python",
   "nbconvert_exporter": "python",
   "pygments_lexer": "ipython3",
   "version": "3.10.0"
  }
 },
 "nbformat": 4,
 "nbformat_minor": 0
}
