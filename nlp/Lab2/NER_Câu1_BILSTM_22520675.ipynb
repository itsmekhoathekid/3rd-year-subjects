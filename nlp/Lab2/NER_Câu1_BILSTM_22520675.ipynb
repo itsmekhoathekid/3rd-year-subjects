{
 "cells": [
  {
   "cell_type": "code",
   "execution_count": 1,
   "metadata": {
    "id": "YzKjL9ahHBq1"
   },
   "outputs": [],
   "source": [
    "import pandas as pd\n",
    "import numpy as np\n",
    "from torch.utils.data import Dataset, DataLoader, TensorDataset\n",
    "import torch\n",
    "import torch.nn as nn\n",
    "from tqdm import tqdm\n",
    "from sklearn.model_selection import train_test_split\n",
    "from sklearn.metrics import accuracy_score, precision_score, recall_score, f1_score\n",
    "import torch.optim as optim"
   ]
  },
  {
   "cell_type": "code",
   "execution_count": 4,
   "metadata": {},
   "outputs": [
    {
     "name": "stderr",
     "output_type": "stream",
     "text": [
      "Downloading...\n",
      "From: https://drive.google.com/uc?id=16tiNjsITbWh-3J5laCgtBX0MaR6cVT2e\n",
      "To: C:\\Users\\VIET HOANG - VTS\\Desktop\\VisionReader\\nlp\\data.csv\n",
      "100%|██████████| 15.2M/15.2M [00:02<00:00, 6.32MB/s]\n"
     ]
    },
    {
     "data": {
      "text/plain": [
       "'C:\\\\Users\\\\VIET HOANG - VTS\\\\Desktop\\\\VisionReader\\\\nlp\\\\data.csv'"
      ]
     },
     "execution_count": 4,
     "metadata": {},
     "output_type": "execute_result"
    }
   ],
   "source": [
    "import gdown\n",
    "\n",
    "# Đặt ID của tệp và tên tệp tải về\n",
    "file_id = \"16tiNjsITbWh-3J5laCgtBX0MaR6cVT2e\"\n",
    "url = f\"https://drive.google.com/uc?id={file_id}\"\n",
    "output = r\"C:\\Users\\VIET HOANG - VTS\\Desktop\\VisionReader\\nlp\\data.csv\"  # Tên tệp tải về\n",
    "\n",
    "# Tải tệp\n",
    "gdown.download(url, output, quiet=False)"
   ]
  },
  {
   "cell_type": "code",
   "execution_count": 6,
   "metadata": {
    "colab": {
     "base_uri": "https://localhost:8080/"
    },
    "id": "VXTB4rXHG2Vt",
    "outputId": "041681e4-59b1-4f56-fb9c-6bb75975b0c5"
   },
   "outputs": [
    {
     "name": "stderr",
     "output_type": "stream",
     "text": [
      "C:\\Users\\VIET HOANG - VTS\\AppData\\Local\\Temp\\ipykernel_21684\\525937010.py:2: FutureWarning: DataFrame.fillna with 'method' is deprecated and will raise in a future version. Use obj.ffill() or obj.bfill() instead.\n",
      "  data = df.fillna(method=\"ffill\")\n"
     ]
    }
   ],
   "source": [
    "df = pd.read_csv(output, encoding='ISO-8859-1')\n",
    "data = df.fillna(method=\"ffill\")\n",
    "train_df, test_df = train_test_split(df, test_size=0.2, random_state=42)\n"
   ]
  },
  {
   "cell_type": "code",
   "execution_count": 7,
   "metadata": {
    "id": "24V5MXUH_Hu8"
   },
   "outputs": [],
   "source": [
    "words = list(set(data[\"Word\"].values))\n",
    "words.append(\"ENDPAD\")\n",
    "num_words = len(words)"
   ]
  },
  {
   "cell_type": "code",
   "execution_count": 8,
   "metadata": {
    "id": "RlWIAfFj_NBG"
   },
   "outputs": [],
   "source": [
    "tags = list(set(data[\"Tag\"].values))\n",
    "tags.append(\"ENDPAD\")\n",
    "num_tags = len(words)"
   ]
  },
  {
   "cell_type": "code",
   "execution_count": 9,
   "metadata": {
    "id": "8DQ_ce0J_S94"
   },
   "outputs": [],
   "source": [
    "class SentenceGetter(object):\n",
    "    def __init__(self, data):\n",
    "        self.n_sent = 1\n",
    "        self.data = data\n",
    "        self.empty = False\n",
    "        agg_func = lambda s: [(w, p, t) for w, p, t in zip(s[\"Word\"].values.tolist(),\n",
    "                                                           s[\"POS\"].values.tolist(),\n",
    "                                                           s[\"Tag\"].values.tolist())]\n",
    "        self.grouped = self.data.groupby(\"Sentence #\").apply(agg_func)\n",
    "        self.sentences = [s for s in self.grouped]"
   ]
  },
  {
   "cell_type": "code",
   "execution_count": 10,
   "metadata": {
    "colab": {
     "base_uri": "https://localhost:8080/"
    },
    "id": "Igurn9sJ_awB",
    "outputId": "81e1ec15-5b44-48fd-cb43-cab4ac95a29b"
   },
   "outputs": [],
   "source": [
    "getter = SentenceGetter(data)\n",
    "sentences = getter.sentences"
   ]
  },
  {
   "cell_type": "code",
   "execution_count": 11,
   "metadata": {
    "id": "GmSdosm1_bus"
   },
   "outputs": [],
   "source": [
    "word2idx = {w: i   for i, w in enumerate(words)}\n",
    "tag2idx = {t: i for i, t in enumerate(tags)}"
   ]
  },
  {
   "cell_type": "code",
   "execution_count": 12,
   "metadata": {
    "id": "dD8edD17AZqt"
   },
   "outputs": [],
   "source": [
    "import matplotlib.pyplot as plt"
   ]
  },
  {
   "cell_type": "code",
   "execution_count": 13,
   "metadata": {
    "colab": {
     "base_uri": "https://localhost:8080/",
     "height": 430
    },
    "id": "nQlLSknHASf8",
    "outputId": "4f7b012b-e33b-4e12-b1c5-69be54e16ea0"
   },
   "outputs": [
    {
     "data": {
      "image/png": "[encoded data removed]",
      "text/plain": [
       "<Figure size 640x480 with 1 Axes>"
      ]
     },
     "metadata": {},
     "output_type": "display_data"
    }
   ],
   "source": [
    "length = [len(s) for s in sentences]\n",
    "length = np.array(length)\n",
    "plt.hist(length, bins=50)\n",
    "plt.show()"
   ]
  },
  {
   "cell_type": "code",
   "execution_count": 16,
   "metadata": {
    "id": "eF-oM7R2Ae-m"
   },
   "outputs": [],
   "source": [
    "from tensorflow.keras.preprocessing.sequence import pad_sequences\n",
    "#đặt max length cho phù hợp\n",
    "max_len = 50\n",
    "\n",
    "device = torch.device(\"cuda\" if torch.cuda.is_available() else \"cpu\")\n",
    "\n",
    "X = [[word2idx[w[0]] for w in s] for s in sentences]\n",
    "X = pad_sequences(maxlen=max_len, sequences=X, padding=\"post\", value=num_words-1)\n",
    "\n",
    "y = [[tag2idx[w[2]] for w in s] for s in sentences]\n",
    "y = pad_sequences(maxlen=max_len, sequences=y, padding=\"post\", value=tag2idx[\"O\"])\n",
    "\n",
    "X = torch.tensor(X, dtype=torch.long).to(device)\n",
    "y = torch.tensor(y, dtype=torch.long).to(device)"
   ]
  },
  {
   "cell_type": "code",
   "execution_count": 17,
   "metadata": {
    "id": "UAtRYhFMAvGD"
   },
   "outputs": [],
   "source": [
    "from sklearn.model_selection import train_test_split\n",
    "x_train, x_test, y_train, y_test = train_test_split(X, y, test_size=0.2, random_state=42)"
   ]
  },
  {
   "cell_type": "code",
   "execution_count": 18,
   "metadata": {
    "id": "CDP1zH8-A3d1"
   },
   "outputs": [],
   "source": [
    "from tensorflow.keras.models import Sequential\n",
    "from tensorflow.keras import Model, Input\n",
    "from tensorflow.keras.layers import LSTM, Embedding, Dense\n",
    "from tensorflow.keras.layers import TimeDistributed, SpatialDropout1D, Bidirectional"
   ]
  },
  {
   "cell_type": "code",
   "execution_count": 19,
   "metadata": {
    "colab": {
     "base_uri": "https://localhost:8080/",
     "height": 106
    },
    "id": "ZbeBk0_YA5qS",
    "outputId": "646a4b75-281b-4c19-ba86-3e68d850db2a"
   },
   "outputs": [],
   "source": [
    "import torch\n",
    "import torch.nn as nn\n",
    "\n",
    "class BiLSTM(nn.Module):\n",
    "    def __init__(self, vocab_size, embedding_dim, hidden_size, num_classes, num_layers=1, pad_idx=0):\n",
    "        super(BiLSTM, self).__init__()\n",
    "\n",
    "        self.embedding = nn.Embedding(vocab_size, embedding_dim, padding_idx=pad_idx)\n",
    "        self.bilstm = nn.LSTM(embedding_dim, hidden_size, num_layers=num_layers,\n",
    "                              bidirectional=True, batch_first=True)\n",
    "        self.fc = nn.Linear(hidden_size * 2, num_classes)\n",
    "\n",
    "    def forward(self, x):\n",
    "        embedded = self.embedding(x)\n",
    "        lstm_out, _ = self.bilstm(embedded)\n",
    "        logits = self.fc(lstm_out)\n",
    "        return logits\n"
   ]
  },
  {
   "cell_type": "code",
   "execution_count": 20,
   "metadata": {
    "id": "RZ4WlcbkB5lU"
   },
   "outputs": [],
   "source": [
    "batch_size = 32\n",
    "train_data = TensorDataset(x_train, y_train)\n",
    "test_data = TensorDataset(x_test, y_test)\n",
    "train_dataloader = DataLoader(train_data, batch_size=batch_size, shuffle=True)\n",
    "test_dataloader = DataLoader(test_data, batch_size=batch_size)"
   ]
  },
  {
   "cell_type": "code",
   "execution_count": null,
   "metadata": {
    "colab": {
     "base_uri": "https://localhost:8080/",
     "height": 391
    },
    "id": "4S8QgNcSB9Q3",
    "outputId": "2738a296-b4f9-4235-e77d-0228fb9156e6"
   },
   "outputs": [
    {
     "name": "stdout",
     "output_type": "stream",
     "text": [
      "Epoch 1:\n"
     ]
    },
    {
     "name": "stderr",
     "output_type": "stream",
     "text": [
      "training: 100%|██████████| 1199/1199 [01:35<00:00, 12.49it/s]\n"
     ]
    },
    {
     "name": "stdout",
     "output_type": "stream",
     "text": [
      "Epoch 2:\n"
     ]
    },
    {
     "name": "stderr",
     "output_type": "stream",
     "text": [
      "training: 100%|██████████| 1199/1199 [01:40<00:00, 11.91it/s]\n"
     ]
    },
    {
     "name": "stdout",
     "output_type": "stream",
     "text": [
      "Epoch 3:\n"
     ]
    },
    {
     "name": "stderr",
     "output_type": "stream",
     "text": [
      "training: 100%|██████████| 1199/1199 [01:43<00:00, 11.63it/s]\n"
     ]
    },
    {
     "name": "stdout",
     "output_type": "stream",
     "text": [
      "Epoch 4:\n"
     ]
    },
    {
     "name": "stderr",
     "output_type": "stream",
     "text": [
      "training: 100%|██████████| 1199/1199 [01:44<00:00, 11.49it/s]\n"
     ]
    },
    {
     "name": "stdout",
     "output_type": "stream",
     "text": [
      "Epoch 5:\n"
     ]
    },
    {
     "name": "stderr",
     "output_type": "stream",
     "text": [
      "training: 100%|██████████| 1199/1199 [01:46<00:00, 11.29it/s]\n"
     ]
    },
    {
     "name": "stdout",
     "output_type": "stream",
     "text": [
      "Epoch 6:\n"
     ]
    },
    {
     "name": "stderr",
     "output_type": "stream",
     "text": [
      "training: 100%|██████████| 1199/1199 [01:46<00:00, 11.24it/s]\n"
     ]
    },
    {
     "name": "stdout",
     "output_type": "stream",
     "text": [
      "Epoch 7:\n"
     ]
    },
    {
     "name": "stderr",
     "output_type": "stream",
     "text": [
      "training: 100%|██████████| 1199/1199 [01:46<00:00, 11.23it/s]\n"
     ]
    },
    {
     "name": "stdout",
     "output_type": "stream",
     "text": [
      "Epoch 8:\n"
     ]
    },
    {
     "name": "stderr",
     "output_type": "stream",
     "text": [
      "training: 100%|██████████| 1199/1199 [01:47<00:00, 11.18it/s]\n"
     ]
    },
    {
     "name": "stdout",
     "output_type": "stream",
     "text": [
      "Epoch 9:\n"
     ]
    },
    {
     "name": "stderr",
     "output_type": "stream",
     "text": [
      "training: 100%|██████████| 1199/1199 [01:47<00:00, 11.12it/s]\n"
     ]
    },
    {
     "name": "stdout",
     "output_type": "stream",
     "text": [
      "Epoch 10:\n"
     ]
    },
    {
     "name": "stderr",
     "output_type": "stream",
     "text": [
      "training: 100%|██████████| 1199/1199 [01:47<00:00, 11.14it/s]\n"
     ]
    }
   ],
   "source": [
    "model1 = BiLSTM(vocab_size = num_words, embedding_dim= 50, hidden_size = 100, num_classes = num_tags).to(device)\n",
    "# Initialize optimizer and loss function\n",
    "optimizer = optim.Adam(model1.parameters(), lr=3e-4)  # Learning rate set to 0.0003\n",
    "loss_fn = nn.CrossEntropyLoss()\n",
    "\n",
    "for epoch in range(10):\n",
    "    print(f\"Epoch {epoch + 1}:\")\n",
    "    model1.train()\n",
    "    for batch_item in tqdm(train_dataloader, desc=\"training\"):\n",
    "        word, label = batch_item\n",
    "        word, label = word.to(device), label.to(device)\n",
    "\n",
    "        outputs = model1(word)\n",
    "        outputs = outputs.view(-1, outputs.size(-1))  # (batch_size * sequence_length, num_classes)\n",
    "        labels = label.view(-1)  # (batch_size * sequence_length)\n",
    "\n",
    "        loss = loss_fn(outputs, labels)\n",
    "\n",
    "        optimizer.zero_grad()\n",
    "        loss.backward()\n",
    "        optimizer.step()\n"
   ]
  },
  {
   "cell_type": "code",
   "execution_count": null,
   "metadata": {},
   "outputs": [
    {
     "name": "stdout",
     "output_type": "stream",
     "text": [
      "Classification Report:\n",
      "              precision    recall  f1-score   support\n",
      "\n",
      "           0       0.00      1.00      0.00         0\n",
      "           1       0.88      0.61      0.72      1249\n",
      "           2       0.78      0.10      0.18        70\n",
      "           3       0.93      0.89      0.91      3137\n",
      "           4       1.00      0.00      0.00        13\n",
      "           5       1.00      0.00      0.00        94\n",
      "           6       0.75      0.62      0.68      4148\n",
      "           7       1.00      0.24      0.39        33\n",
      "           8       0.90      0.82      0.86      4074\n",
      "           9       1.00      0.00      0.00        40\n",
      "          10       0.99      1.00      0.99    447384\n",
      "          11       1.00      0.00      0.00        84\n",
      "          12       0.85      0.83      0.84      3404\n",
      "          13       0.76      0.69      0.73      3391\n",
      "          14       0.83      0.85      0.84      7556\n",
      "          15       1.00      0.00      0.00        65\n",
      "          16       0.80      0.71      0.75      1461\n",
      "\n",
      "    accuracy                           0.98    476203\n",
      "   macro avg       0.85      0.49      0.46    476203\n",
      "weighted avg       0.98      0.98      0.98    476203\n",
      "\n",
      "Micro F1-score: 0.9828686505544905\n",
      "Macro F1-score: 0.4643258552301391\n",
      "Overall Accuracy: 0.9828686505544905\n"
     ]
    }
   ],
   "source": [
    "from sklearn.metrics import classification_report, f1_score, accuracy_score\n",
    "\n",
    "model1.eval()\n",
    "all_predictions = []\n",
    "all_labels = []\n",
    "\n",
    "with torch.no_grad():\n",
    "    for x_batch, y_batch in test_dataloader:\n",
    "        x_batch, y_batch = x_batch.to(device), y_batch.to(device)\n",
    "        outputs = model1(x_batch)\n",
    "        \n",
    "        _, predicted = torch.max(outputs, dim=2)\n",
    "        \n",
    "\n",
    "        mask = (y_batch != 0)\n",
    "        filtered_preds = predicted[mask].cpu().numpy()\n",
    "        filtered_labels = y_batch[mask].cpu().numpy()\n",
    "        \n",
    "        all_predictions.extend(filtered_preds)\n",
    "        all_labels.extend(filtered_labels)\n",
    "\n",
    "print(\"Classification Report:\")\n",
    "print(classification_report(all_labels, all_predictions, zero_division=1))\n",
    "\n",
    "\n",
    "f1_micro = f1_score(all_labels, all_predictions, average='micro')\n",
    "f1_macro = f1_score(all_labels, all_predictions, average='macro')\n",
    "accuracy = accuracy_score(all_labels, all_predictions)\n",
    "\n",
    "print(f\"Micro F1-score: {f1_micro}\")\n",
    "print(f\"Macro F1-score: {f1_macro}\")\n",
    "print(f\"Overall Accuracy: {accuracy}\")"
   ]
  },
  {
   "cell_type": "code",
   "execution_count": 25,
   "metadata": {},
   "outputs": [
    {
     "name": "stdout",
     "output_type": "stream",
     "text": [
      "mo hinh da duoc luu!\n"
     ]
    }
   ],
   "source": [
    "torch.save(model1.state_dict(), 'models/nlp1_model.pth')\n",
    "print(\"mo hinh da duoc luu!\")"
   ]
  }
 ],
 "metadata": {
  "accelerator": "GPU",
  "colab": {
   "gpuType": "T4",
   "provenance": []
  },
  "kernelspec": {
   "display_name": "cuda",
   "language": "python",
   "name": "python3"
  },
  "language_info": {
   "codemirror_mode": {
    "name": "ipython",
    "version": 3
   },
   "file_extension": ".py",
   "mimetype": "text/x-python",
   "name": "python",
   "nbconvert_exporter": "python",
   "pygments_lexer": "ipython3",
   "version": "3.10.0"
  }
 },
 "nbformat": 4,
 "nbformat_minor": 0
}
