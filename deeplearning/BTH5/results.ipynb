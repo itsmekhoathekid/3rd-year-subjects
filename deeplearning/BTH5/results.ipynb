{
 "cells": [
  {
   "cell_type": "code",
   "execution_count": 2,
   "metadata": {},
   "outputs": [],
   "source": [
    "import torch\n",
    "from torch import nn\n",
    "from torch.utils.data import DataLoader\n",
    "import os\n",
    "import torch\n",
    "from shutil import copyfile\n",
    "from tqdm import tqdm\n",
    "from sklearn.metrics import precision_score, recall_score, f1_score\n",
    "\n",
    "from vocab import Vocab\n",
    "from dataset import ViOCD_Dataset, collate_fn\n",
    "from transformer_encoder_model import TransformerEncoderModelLPE,TransformerEncoderModel, TransformerEncoderModelPyTorch"
   ]
  },
  {
   "cell_type": "code",
   "execution_count": 8,
   "metadata": {},
   "outputs": [],
   "source": [
    "device = \"cuda\" if torch.cuda.is_available() else \"cpu\"\n",
    "scorers = {\n",
    "    \"f1\": f1_score,\n",
    "    \"precision\": precision_score,\n",
    "    \"recall\": recall_score\n",
    "}\n",
    "\n",
    "def train(epoch: int, model: nn.Module, dataloader: DataLoader, optim: torch.optim.Optimizer):\n",
    "    model.train()\n",
    "\n",
    "    running_loss = .0\n",
    "    with tqdm(desc='Epoch %d - Training' % epoch, unit='it', total=len(dataloader)) as pbar:\n",
    "        for it, items in enumerate(dataloader):\n",
    "            # forward pass\n",
    "            input_ids = items[\"input_ids\"].to(device)\n",
    "            labels = items[\"labels\"].to(device)\n",
    "            \n",
    "            _, loss = model(input_ids, labels)\n",
    "            \n",
    "            # backward pass\n",
    "            optim.zero_grad()\n",
    "            loss.backward()\n",
    "            optim.step()\n",
    "            running_loss += loss.item()\n",
    "\n",
    "            # update the training status\n",
    "            pbar.set_postfix(loss=running_loss / (it + 1))\n",
    "            pbar.update()\n",
    "\n",
    "def compute_scores(predictions: list, labels: list) -> dict:\n",
    "    scores = {}\n",
    "    for scorer_name in scorers:\n",
    "        scorer = scorers[scorer_name]\n",
    "        scores[scorer_name] = scorer(labels, predictions, average=\"macro\")\n",
    "\n",
    "    return scores\n",
    "\n",
    "def evaluate_metrics(epoch: int, model: nn.Module, dataloader: DataLoader) -> dict:\n",
    "    model.eval()\n",
    "    all_labels = []\n",
    "    all_predictions = []\n",
    "    scores = {}\n",
    "    with tqdm(desc='Epoch %d - Evaluating' % epoch, unit='it', total=len(dataloader)) as pbar:\n",
    "        for items in dataloader:\n",
    "            input_ids = items[\"input_ids\"].to(device)\n",
    "            labels = items[\"labels\"].to(device)\n",
    "            with torch.no_grad():\n",
    "                logits, _ = model(input_ids, labels)\n",
    "\n",
    "            predictions = logits.argmax(dim=-1).long()\n",
    "    \n",
    "            labels = labels.view(-1).cpu().numpy()\n",
    "            predictions = predictions.view(-1).cpu().numpy()\n",
    "\n",
    "            all_labels.extend(labels)\n",
    "            all_predictions.extend(predictions)\n",
    "\n",
    "            pbar.update()\n",
    "        # Calculate metrics\n",
    "    scores = compute_scores(all_predictions, all_labels)\n",
    "\n",
    "    return scores\n",
    "\n",
    "def save_checkpoint(dict_to_save, checkpoint_path):\n",
    "    if not os.path.isdir(checkpoint_path):\n",
    "        os.mkdir(checkpoint_path)\n",
    "    torch.save(dict_to_save, os.path.join(f\"{checkpoint_path}\", \"last_model.pth\"))\n",
    "\n",
    "def main(\n",
    "        d_model: int,\n",
    "        layer_dim: int,\n",
    "        head: int,\n",
    "        d_ff: int,\n",
    "        dropout: float,\n",
    "        train_path: str, \n",
    "        dev_path: str, \n",
    "        test_path: str,\n",
    "        learning_rate,\n",
    "        checkpoint_path,\n",
    "        typee):\n",
    "\n",
    "    vocab = Vocab(\n",
    "        train_path, dev_path, test_path\n",
    "    )\n",
    "\n",
    "    train_dataset = ViOCD_Dataset(train_path, vocab)\n",
    "    dev_dataset = ViOCD_Dataset(dev_path, vocab)\n",
    "    test_dataset = ViOCD_Dataset(test_path, vocab)\n",
    "\n",
    "    train_dataloader = DataLoader(\n",
    "        dataset=train_dataset,\n",
    "        batch_size=32,\n",
    "        shuffle=True,\n",
    "        num_workers=2,\n",
    "        collate_fn=collate_fn\n",
    "    )\n",
    "    dev_dataloader = DataLoader(\n",
    "        dataset=dev_dataset,\n",
    "        batch_size=1,\n",
    "        shuffle=True,\n",
    "        num_workers=0,\n",
    "        collate_fn=collate_fn\n",
    "    )\n",
    "    test_dataloader = DataLoader(\n",
    "        dataset=test_dataset,\n",
    "        batch_size=1,\n",
    "        shuffle=True,\n",
    "        num_workers=0,\n",
    "        collate_fn=collate_fn\n",
    "    )\n",
    "\n",
    "    epoch = 0\n",
    "    score_name = \"f1\"\n",
    "    allowed_patience = 5\n",
    "    best_score = 0\n",
    "\n",
    "    if typee == 'Câu 3':\n",
    "        model = TransformerEncoderModelPyTorch(\n",
    "            d_model, head, layer_dim, d_ff, dropout, vocab\n",
    "        ).to(device)\n",
    "    elif typee == 'Câu 1':\n",
    "        model = TransformerEncoderModel(\n",
    "            d_model, head, layer_dim, d_ff, dropout, vocab\n",
    "        ).to(device)\n",
    "    else:\n",
    "        model = TransformerEncoderModelLPE(\n",
    "            d_model, head, layer_dim, d_ff, dropout, vocab\n",
    "        ).to(device)\n",
    "    optim = torch.optim.Adam(model.parameters(), lr=learning_rate, betas=(0.9, 0.98))\n",
    "    \n",
    "    while True:\n",
    "        train(epoch, model, train_dataloader, optim)\n",
    "        # val scores\n",
    "        scores = evaluate_metrics(epoch, model, dev_dataloader)\n",
    "        print(f\"Dev scores: {scores}\")\n",
    "        score = scores[score_name]\n",
    "\n",
    "        # Prepare for next epoch\n",
    "        is_the_best_model = False\n",
    "        if score > best_score:\n",
    "            best_score = score\n",
    "            patience = 0\n",
    "            is_the_best_model = True\n",
    "        else:\n",
    "            patience += 1\n",
    "\n",
    "        exit_train = False\n",
    "        \n",
    "        if patience == allowed_patience:\n",
    "            exit_train = True\n",
    "\n",
    "        save_checkpoint({\n",
    "            \"epoch\": epoch,\n",
    "            \"best_score\": best_score,\n",
    "            \"patience\": patience,\n",
    "            \"state_dict\": model.state_dict(),\n",
    "            \"optimizer\": optim.state_dict()\n",
    "        }, checkpoint_path)\n",
    "\n",
    "        if is_the_best_model:\n",
    "            copyfile(\n",
    "                os.path.join(checkpoint_path, \"last_model.pth\"), \n",
    "                os.path.join(checkpoint_path, \"best_model.pth\")\n",
    "            )\n",
    "\n",
    "        if exit_train:\n",
    "            break\n",
    "\n",
    "        epoch += 1\n",
    "\n",
    "    scores = evaluate_metrics(epoch, model, test_dataloader)\n",
    "    print(f\"Test scores: {scores}\")"
   ]
  },
  {
   "cell_type": "markdown",
   "metadata": {},
   "source": [
    "# Câu 1"
   ]
  },
  {
   "cell_type": "code",
   "execution_count": 9,
   "metadata": {},
   "outputs": [
    {
     "name": "stderr",
     "output_type": "stream",
     "text": [
      "Epoch 0 - Training: 100%|██████████| 138/138 [00:22<00:00,  6.24it/s, loss=0.0113]\n",
      "Epoch 0 - Evaluating: 100%|██████████| 548/548 [00:01<00:00, 277.10it/s]\n",
      "c:\\Users\\VIET HOANG - VTS\\Desktop\\VisionReader\\cuda\\lib\\site-packages\\sklearn\\metrics\\_classification.py:1531: UndefinedMetricWarning: Precision is ill-defined and being set to 0.0 in labels with no predicted samples. Use `zero_division` parameter to control this behavior.\n",
      "  _warn_prf(average, modifier, f\"{metric.capitalize()} is\", len(result))\n"
     ]
    },
    {
     "name": "stdout",
     "output_type": "stream",
     "text": [
      "Dev scores: {'f1': 0.32595325953259535, 'precision': 0.2417883211678832, 'recall': 0.5}\n"
     ]
    },
    {
     "name": "stderr",
     "output_type": "stream",
     "text": [
      "Epoch 1 - Training: 100%|██████████| 138/138 [00:20<00:00,  6.62it/s, loss=0.00744]\n",
      "Epoch 1 - Evaluating: 100%|██████████| 548/548 [00:01<00:00, 287.65it/s]\n",
      "c:\\Users\\VIET HOANG - VTS\\Desktop\\VisionReader\\cuda\\lib\\site-packages\\sklearn\\metrics\\_classification.py:1531: UndefinedMetricWarning: Precision is ill-defined and being set to 0.0 in labels with no predicted samples. Use `zero_division` parameter to control this behavior.\n",
      "  _warn_prf(average, modifier, f\"{metric.capitalize()} is\", len(result))\n"
     ]
    },
    {
     "name": "stdout",
     "output_type": "stream",
     "text": [
      "Dev scores: {'f1': 0.32595325953259535, 'precision': 0.2417883211678832, 'recall': 0.5}\n"
     ]
    },
    {
     "name": "stderr",
     "output_type": "stream",
     "text": [
      "Epoch 2 - Training: 100%|██████████| 138/138 [00:20<00:00,  6.69it/s, loss=nan]    \n",
      "Epoch 2 - Evaluating: 100%|██████████| 548/548 [00:02<00:00, 213.34it/s]\n",
      "c:\\Users\\VIET HOANG - VTS\\Desktop\\VisionReader\\cuda\\lib\\site-packages\\sklearn\\metrics\\_classification.py:1531: UndefinedMetricWarning: Precision is ill-defined and being set to 0.0 in labels with no predicted samples. Use `zero_division` parameter to control this behavior.\n",
      "  _warn_prf(average, modifier, f\"{metric.capitalize()} is\", len(result))\n"
     ]
    },
    {
     "name": "stdout",
     "output_type": "stream",
     "text": [
      "Dev scores: {'f1': 0.32595325953259535, 'precision': 0.2417883211678832, 'recall': 0.5}\n"
     ]
    },
    {
     "name": "stderr",
     "output_type": "stream",
     "text": [
      "Epoch 3 - Training: 100%|██████████| 138/138 [00:21<00:00,  6.37it/s, loss=0.00413]\n",
      "Epoch 3 - Evaluating: 100%|██████████| 548/548 [00:02<00:00, 220.25it/s]\n",
      "c:\\Users\\VIET HOANG - VTS\\Desktop\\VisionReader\\cuda\\lib\\site-packages\\sklearn\\metrics\\_classification.py:1531: UndefinedMetricWarning: Precision is ill-defined and being set to 0.0 in labels with no predicted samples. Use `zero_division` parameter to control this behavior.\n",
      "  _warn_prf(average, modifier, f\"{metric.capitalize()} is\", len(result))\n"
     ]
    },
    {
     "name": "stdout",
     "output_type": "stream",
     "text": [
      "Dev scores: {'f1': 0.32595325953259535, 'precision': 0.2417883211678832, 'recall': 0.5}\n"
     ]
    },
    {
     "name": "stderr",
     "output_type": "stream",
     "text": [
      "Epoch 4 - Training: 100%|██████████| 138/138 [00:20<00:00,  6.73it/s, loss=0.00567]\n",
      "Epoch 4 - Evaluating: 100%|██████████| 548/548 [00:01<00:00, 291.85it/s]\n",
      "c:\\Users\\VIET HOANG - VTS\\Desktop\\VisionReader\\cuda\\lib\\site-packages\\sklearn\\metrics\\_classification.py:1531: UndefinedMetricWarning: Precision is ill-defined and being set to 0.0 in labels with no predicted samples. Use `zero_division` parameter to control this behavior.\n",
      "  _warn_prf(average, modifier, f\"{metric.capitalize()} is\", len(result))\n"
     ]
    },
    {
     "name": "stdout",
     "output_type": "stream",
     "text": [
      "Dev scores: {'f1': 0.32595325953259535, 'precision': 0.2417883211678832, 'recall': 0.5}\n"
     ]
    },
    {
     "name": "stderr",
     "output_type": "stream",
     "text": [
      "Epoch 5 - Training: 100%|██████████| 138/138 [00:19<00:00,  6.98it/s, loss=0.00795]\n",
      "Epoch 5 - Evaluating: 100%|██████████| 548/548 [00:02<00:00, 234.39it/s]\n",
      "c:\\Users\\VIET HOANG - VTS\\Desktop\\VisionReader\\cuda\\lib\\site-packages\\sklearn\\metrics\\_classification.py:1531: UndefinedMetricWarning: Precision is ill-defined and being set to 0.0 in labels with no predicted samples. Use `zero_division` parameter to control this behavior.\n",
      "  _warn_prf(average, modifier, f\"{metric.capitalize()} is\", len(result))\n"
     ]
    },
    {
     "name": "stdout",
     "output_type": "stream",
     "text": [
      "Dev scores: {'f1': 0.32595325953259535, 'precision': 0.2417883211678832, 'recall': 0.5}\n"
     ]
    },
    {
     "name": "stderr",
     "output_type": "stream",
     "text": [
      "Epoch 5 - Evaluating: 100%|██████████| 549/549 [00:02<00:00, 235.22it/s]"
     ]
    },
    {
     "name": "stdout",
     "output_type": "stream",
     "text": [
      "Test scores: {'f1': 0.32967032967032966, 'precision': 0.2459016393442623, 'recall': 0.5}\n"
     ]
    },
    {
     "name": "stderr",
     "output_type": "stream",
     "text": [
      "\n",
      "c:\\Users\\VIET HOANG - VTS\\Desktop\\VisionReader\\cuda\\lib\\site-packages\\sklearn\\metrics\\_classification.py:1531: UndefinedMetricWarning: Precision is ill-defined and being set to 0.0 in labels with no predicted samples. Use `zero_division` parameter to control this behavior.\n",
      "  _warn_prf(average, modifier, f\"{metric.capitalize()} is\", len(result))\n"
     ]
    }
   ],
   "source": [
    "\n",
    "main(\n",
    "        d_model=512,\n",
    "        head=8,\n",
    "        layer_dim=3,\n",
    "        d_ff=4086,\n",
    "        dropout=0.1,\n",
    "        learning_rate=0.001,\n",
    "        train_path=r\"C:\\Users\\VIET HOANG - VTS\\Desktop\\VisionReader\\deeplearning\\BTH5\\ViOCD\\train.json\",\n",
    "        dev_path=r\"C:\\Users\\VIET HOANG - VTS\\Desktop\\VisionReader\\deeplearning\\BTH5\\ViOCD\\dev.json\",\n",
    "        test_path=r\"C:\\Users\\VIET HOANG - VTS\\Desktop\\VisionReader\\deeplearning\\BTH5\\ViOCD\\test.json\",\n",
    "        checkpoint_path=r\"C:\\Users\\VIET HOANG - VTS\\Desktop\\VisionReader\\checkpoints\",\n",
    "        typee = 'Câu 1'\n",
    "    )"
   ]
  },
  {
   "cell_type": "markdown",
   "metadata": {},
   "source": [
    "# Câu 2"
   ]
  },
  {
   "cell_type": "code",
   "execution_count": 10,
   "metadata": {},
   "outputs": [
    {
     "name": "stderr",
     "output_type": "stream",
     "text": [
      "Epoch 0 - Training: 100%|██████████| 138/138 [00:22<00:00,  6.20it/s, loss=0.0107]\n",
      "Epoch 0 - Evaluating: 100%|██████████| 548/548 [00:06<00:00, 90.59it/s] \n",
      "c:\\Users\\VIET HOANG - VTS\\Desktop\\VisionReader\\cuda\\lib\\site-packages\\sklearn\\metrics\\_classification.py:1531: UndefinedMetricWarning: Precision is ill-defined and being set to 0.0 in labels with no predicted samples. Use `zero_division` parameter to control this behavior.\n",
      "  _warn_prf(average, modifier, f\"{metric.capitalize()} is\", len(result))\n"
     ]
    },
    {
     "name": "stdout",
     "output_type": "stream",
     "text": [
      "Dev scores: {'f1': 0.32595325953259535, 'precision': 0.2417883211678832, 'recall': 0.5}\n"
     ]
    },
    {
     "name": "stderr",
     "output_type": "stream",
     "text": [
      "Epoch 1 - Training: 100%|██████████| 138/138 [00:23<00:00,  5.90it/s, loss=0.00591]\n",
      "Epoch 1 - Evaluating: 100%|██████████| 548/548 [00:06<00:00, 89.94it/s] \n",
      "c:\\Users\\VIET HOANG - VTS\\Desktop\\VisionReader\\cuda\\lib\\site-packages\\sklearn\\metrics\\_classification.py:1531: UndefinedMetricWarning: Precision is ill-defined and being set to 0.0 in labels with no predicted samples. Use `zero_division` parameter to control this behavior.\n",
      "  _warn_prf(average, modifier, f\"{metric.capitalize()} is\", len(result))\n"
     ]
    },
    {
     "name": "stdout",
     "output_type": "stream",
     "text": [
      "Dev scores: {'f1': 0.32595325953259535, 'precision': 0.2417883211678832, 'recall': 0.5}\n"
     ]
    },
    {
     "name": "stderr",
     "output_type": "stream",
     "text": [
      "Epoch 2 - Training: 100%|██████████| 138/138 [00:21<00:00,  6.37it/s, loss=0.00763]\n",
      "Epoch 2 - Evaluating: 100%|██████████| 548/548 [00:08<00:00, 60.90it/s]\n",
      "c:\\Users\\VIET HOANG - VTS\\Desktop\\VisionReader\\cuda\\lib\\site-packages\\sklearn\\metrics\\_classification.py:1531: UndefinedMetricWarning: Precision is ill-defined and being set to 0.0 in labels with no predicted samples. Use `zero_division` parameter to control this behavior.\n",
      "  _warn_prf(average, modifier, f\"{metric.capitalize()} is\", len(result))\n"
     ]
    },
    {
     "name": "stdout",
     "output_type": "stream",
     "text": [
      "Dev scores: {'f1': 0.32595325953259535, 'precision': 0.2417883211678832, 'recall': 0.5}\n"
     ]
    },
    {
     "name": "stderr",
     "output_type": "stream",
     "text": [
      "Epoch 3 - Training: 100%|██████████| 138/138 [00:20<00:00,  6.82it/s, loss=0.00742]\n",
      "Epoch 3 - Evaluating: 100%|██████████| 548/548 [00:06<00:00, 78.62it/s] \n",
      "c:\\Users\\VIET HOANG - VTS\\Desktop\\VisionReader\\cuda\\lib\\site-packages\\sklearn\\metrics\\_classification.py:1531: UndefinedMetricWarning: Precision is ill-defined and being set to 0.0 in labels with no predicted samples. Use `zero_division` parameter to control this behavior.\n",
      "  _warn_prf(average, modifier, f\"{metric.capitalize()} is\", len(result))\n"
     ]
    },
    {
     "name": "stdout",
     "output_type": "stream",
     "text": [
      "Dev scores: {'f1': 0.32595325953259535, 'precision': 0.2417883211678832, 'recall': 0.5}\n"
     ]
    },
    {
     "name": "stderr",
     "output_type": "stream",
     "text": [
      "Epoch 4 - Training: 100%|██████████| 138/138 [00:21<00:00,  6.39it/s, loss=0.00817]\n",
      "Epoch 4 - Evaluating: 100%|██████████| 548/548 [00:06<00:00, 85.39it/s] \n",
      "c:\\Users\\VIET HOANG - VTS\\Desktop\\VisionReader\\cuda\\lib\\site-packages\\sklearn\\metrics\\_classification.py:1531: UndefinedMetricWarning: Precision is ill-defined and being set to 0.0 in labels with no predicted samples. Use `zero_division` parameter to control this behavior.\n",
      "  _warn_prf(average, modifier, f\"{metric.capitalize()} is\", len(result))\n"
     ]
    },
    {
     "name": "stdout",
     "output_type": "stream",
     "text": [
      "Dev scores: {'f1': 0.32595325953259535, 'precision': 0.2417883211678832, 'recall': 0.5}\n"
     ]
    },
    {
     "name": "stderr",
     "output_type": "stream",
     "text": [
      "Epoch 5 - Training: 100%|██████████| 138/138 [00:20<00:00,  6.59it/s, loss=0.00751]\n",
      "Epoch 5 - Evaluating: 100%|██████████| 548/548 [00:05<00:00, 108.60it/s]\n",
      "c:\\Users\\VIET HOANG - VTS\\Desktop\\VisionReader\\cuda\\lib\\site-packages\\sklearn\\metrics\\_classification.py:1531: UndefinedMetricWarning: Precision is ill-defined and being set to 0.0 in labels with no predicted samples. Use `zero_division` parameter to control this behavior.\n",
      "  _warn_prf(average, modifier, f\"{metric.capitalize()} is\", len(result))\n"
     ]
    },
    {
     "name": "stdout",
     "output_type": "stream",
     "text": [
      "Dev scores: {'f1': 0.32595325953259535, 'precision': 0.2417883211678832, 'recall': 0.5}\n"
     ]
    },
    {
     "name": "stderr",
     "output_type": "stream",
     "text": [
      "Epoch 5 - Evaluating: 100%|██████████| 549/549 [00:05<00:00, 101.06it/s]\n",
      "c:\\Users\\VIET HOANG - VTS\\Desktop\\VisionReader\\cuda\\lib\\site-packages\\sklearn\\metrics\\_classification.py:1531: UndefinedMetricWarning: Precision is ill-defined and being set to 0.0 in labels with no predicted samples. Use `zero_division` parameter to control this behavior.\n",
      "  _warn_prf(average, modifier, f\"{metric.capitalize()} is\", len(result))\n"
     ]
    },
    {
     "name": "stdout",
     "output_type": "stream",
     "text": [
      "Test scores: {'f1': 0.32967032967032966, 'precision': 0.2459016393442623, 'recall': 0.5}\n"
     ]
    }
   ],
   "source": [
    "main(\n",
    "        d_model=512,\n",
    "        head=8,\n",
    "        layer_dim=3,\n",
    "        d_ff=4086,\n",
    "        dropout=0.1,\n",
    "        learning_rate=0.001,\n",
    "        train_path=r\"C:\\Users\\VIET HOANG - VTS\\Desktop\\VisionReader\\deeplearning\\BTH5\\ViOCD\\train.json\",\n",
    "        dev_path=r\"C:\\Users\\VIET HOANG - VTS\\Desktop\\VisionReader\\deeplearning\\BTH5\\ViOCD\\dev.json\",\n",
    "        test_path=r\"C:\\Users\\VIET HOANG - VTS\\Desktop\\VisionReader\\deeplearning\\BTH5\\ViOCD\\test.json\",\n",
    "        checkpoint_path=\"checkpoints\",\n",
    "        typee = 'Câu 2'\n",
    "    )"
   ]
  },
  {
   "cell_type": "markdown",
   "metadata": {},
   "source": [
    "# Câu 3"
   ]
  },
  {
   "cell_type": "code",
   "execution_count": 11,
   "metadata": {},
   "outputs": [
    {
     "name": "stderr",
     "output_type": "stream",
     "text": [
      "c:\\Users\\VIET HOANG - VTS\\Desktop\\VisionReader\\cuda\\lib\\site-packages\\torch\\nn\\modules\\transformer.py:307: UserWarning: enable_nested_tensor is True, but self.use_nested_tensor is False because encoder_layer.self_attn.batch_first was not True(use batch_first for better inference performance)\n",
      "  warnings.warn(f\"enable_nested_tensor is True, but self.use_nested_tensor is False because {why_not_sparsity_fast_path}\")\n",
      "Epoch 0 - Training:   0%|          | 0/138 [00:00<?, ?it/s]c:\\Users\\VIET HOANG - VTS\\Desktop\\VisionReader\\cuda\\lib\\site-packages\\torch\\nn\\functional.py:5560: UserWarning: 1Torch was not compiled with flash attention. (Triggered internally at C:\\actions-runner\\_work\\pytorch\\pytorch\\builder\\windows\\pytorch\\aten\\src\\ATen\\native\\transformers\\cuda\\sdp_utils.cpp:555.)\n",
      "  attn_output = scaled_dot_product_attention(q, k, v, attn_mask, dropout_p, is_causal)\n",
      "Epoch 0 - Training: 100%|██████████| 138/138 [00:25<00:00,  5.36it/s, loss=0.0204]\n",
      "Epoch 0 - Evaluating: 100%|██████████| 548/548 [00:02<00:00, 216.88it/s]\n",
      "c:\\Users\\VIET HOANG - VTS\\Desktop\\VisionReader\\cuda\\lib\\site-packages\\sklearn\\metrics\\_classification.py:1531: UndefinedMetricWarning: Precision is ill-defined and being set to 0.0 in labels with no predicted samples. Use `zero_division` parameter to control this behavior.\n",
      "  _warn_prf(average, modifier, f\"{metric.capitalize()} is\", len(result))\n"
     ]
    },
    {
     "name": "stdout",
     "output_type": "stream",
     "text": [
      "Dev scores: {'f1': 0.32595325953259535, 'precision': 0.2417883211678832, 'recall': 0.5}\n"
     ]
    },
    {
     "name": "stderr",
     "output_type": "stream",
     "text": [
      "Epoch 1 - Training: 100%|██████████| 138/138 [00:26<00:00,  5.20it/s, loss=0.00462]\n",
      "Epoch 1 - Evaluating: 100%|██████████| 548/548 [00:02<00:00, 205.67it/s]\n",
      "c:\\Users\\VIET HOANG - VTS\\Desktop\\VisionReader\\cuda\\lib\\site-packages\\sklearn\\metrics\\_classification.py:1531: UndefinedMetricWarning: Precision is ill-defined and being set to 0.0 in labels with no predicted samples. Use `zero_division` parameter to control this behavior.\n",
      "  _warn_prf(average, modifier, f\"{metric.capitalize()} is\", len(result))\n"
     ]
    },
    {
     "name": "stdout",
     "output_type": "stream",
     "text": [
      "Dev scores: {'f1': 0.32595325953259535, 'precision': 0.2417883211678832, 'recall': 0.5}\n"
     ]
    },
    {
     "name": "stderr",
     "output_type": "stream",
     "text": [
      "Epoch 2 - Training: 100%|██████████| 138/138 [00:22<00:00,  6.12it/s, loss=0.0067] \n",
      "Epoch 2 - Evaluating: 100%|██████████| 548/548 [00:04<00:00, 133.19it/s]\n",
      "c:\\Users\\VIET HOANG - VTS\\Desktop\\VisionReader\\cuda\\lib\\site-packages\\sklearn\\metrics\\_classification.py:1531: UndefinedMetricWarning: Precision is ill-defined and being set to 0.0 in labels with no predicted samples. Use `zero_division` parameter to control this behavior.\n",
      "  _warn_prf(average, modifier, f\"{metric.capitalize()} is\", len(result))\n"
     ]
    },
    {
     "name": "stdout",
     "output_type": "stream",
     "text": [
      "Dev scores: {'f1': 0.32595325953259535, 'precision': 0.2417883211678832, 'recall': 0.5}\n"
     ]
    },
    {
     "name": "stderr",
     "output_type": "stream",
     "text": [
      "Epoch 3 - Training: 100%|██████████| 138/138 [00:25<00:00,  5.31it/s, loss=nan]    \n",
      "Epoch 3 - Evaluating: 100%|██████████| 548/548 [00:02<00:00, 214.94it/s]\n",
      "c:\\Users\\VIET HOANG - VTS\\Desktop\\VisionReader\\cuda\\lib\\site-packages\\sklearn\\metrics\\_classification.py:1531: UndefinedMetricWarning: Precision is ill-defined and being set to 0.0 in labels with no predicted samples. Use `zero_division` parameter to control this behavior.\n",
      "  _warn_prf(average, modifier, f\"{metric.capitalize()} is\", len(result))\n"
     ]
    },
    {
     "name": "stdout",
     "output_type": "stream",
     "text": [
      "Dev scores: {'f1': 0.32595325953259535, 'precision': 0.2417883211678832, 'recall': 0.5}\n"
     ]
    },
    {
     "name": "stderr",
     "output_type": "stream",
     "text": [
      "Epoch 4 - Training: 100%|██████████| 138/138 [00:27<00:00,  5.05it/s, loss=0.00621]\n",
      "Epoch 4 - Evaluating: 100%|██████████| 548/548 [00:04<00:00, 116.10it/s]\n",
      "c:\\Users\\VIET HOANG - VTS\\Desktop\\VisionReader\\cuda\\lib\\site-packages\\sklearn\\metrics\\_classification.py:1531: UndefinedMetricWarning: Precision is ill-defined and being set to 0.0 in labels with no predicted samples. Use `zero_division` parameter to control this behavior.\n",
      "  _warn_prf(average, modifier, f\"{metric.capitalize()} is\", len(result))\n"
     ]
    },
    {
     "name": "stdout",
     "output_type": "stream",
     "text": [
      "Dev scores: {'f1': 0.32595325953259535, 'precision': 0.2417883211678832, 'recall': 0.5}\n"
     ]
    },
    {
     "name": "stderr",
     "output_type": "stream",
     "text": [
      "Epoch 5 - Training: 100%|██████████| 138/138 [00:25<00:00,  5.43it/s, loss=0.00878]\n",
      "Epoch 5 - Evaluating: 100%|██████████| 548/548 [00:01<00:00, 295.73it/s]\n",
      "c:\\Users\\VIET HOANG - VTS\\Desktop\\VisionReader\\cuda\\lib\\site-packages\\sklearn\\metrics\\_classification.py:1531: UndefinedMetricWarning: Precision is ill-defined and being set to 0.0 in labels with no predicted samples. Use `zero_division` parameter to control this behavior.\n",
      "  _warn_prf(average, modifier, f\"{metric.capitalize()} is\", len(result))\n"
     ]
    },
    {
     "name": "stdout",
     "output_type": "stream",
     "text": [
      "Dev scores: {'f1': 0.32595325953259535, 'precision': 0.2417883211678832, 'recall': 0.5}\n"
     ]
    },
    {
     "name": "stderr",
     "output_type": "stream",
     "text": [
      "Epoch 5 - Evaluating: 100%|██████████| 549/549 [00:02<00:00, 236.79it/s]"
     ]
    },
    {
     "name": "stdout",
     "output_type": "stream",
     "text": [
      "Test scores: {'f1': 0.32967032967032966, 'precision': 0.2459016393442623, 'recall': 0.5}\n"
     ]
    },
    {
     "name": "stderr",
     "output_type": "stream",
     "text": [
      "\n",
      "c:\\Users\\VIET HOANG - VTS\\Desktop\\VisionReader\\cuda\\lib\\site-packages\\sklearn\\metrics\\_classification.py:1531: UndefinedMetricWarning: Precision is ill-defined and being set to 0.0 in labels with no predicted samples. Use `zero_division` parameter to control this behavior.\n",
      "  _warn_prf(average, modifier, f\"{metric.capitalize()} is\", len(result))\n"
     ]
    }
   ],
   "source": [
    "main(\n",
    "        d_model=512,\n",
    "        head=8,\n",
    "        layer_dim=3,\n",
    "        d_ff=4086,\n",
    "        dropout=0.1,\n",
    "        learning_rate=0.001,\n",
    "        train_path=r\"C:\\Users\\VIET HOANG - VTS\\Desktop\\VisionReader\\deeplearning\\BTH5\\ViOCD\\train.json\",\n",
    "        dev_path=r\"C:\\Users\\VIET HOANG - VTS\\Desktop\\VisionReader\\deeplearning\\BTH5\\ViOCD\\dev.json\",\n",
    "        test_path=r\"C:\\Users\\VIET HOANG - VTS\\Desktop\\VisionReader\\deeplearning\\BTH5\\ViOCD\\test.json\",\n",
    "        checkpoint_path=\"checkpoints\",\n",
    "        typee = 'Câu 3'\n",
    "    )"
   ]
  }
 ],
 "metadata": {
  "kernelspec": {
   "display_name": "cuda",
   "language": "python",
   "name": "python3"
  },
  "language_info": {
   "codemirror_mode": {
    "name": "ipython",
    "version": 3
   },
   "file_extension": ".py",
   "mimetype": "text/x-python",
   "name": "python",
   "nbconvert_exporter": "python",
   "pygments_lexer": "ipython3",
   "version": "3.10.0"
  }
 },
 "nbformat": 4,
 "nbformat_minor": 2
}
