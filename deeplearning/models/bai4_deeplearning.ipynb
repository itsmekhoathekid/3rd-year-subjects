{
  "nbformat": 4,
  "nbformat_minor": 0,
  "metadata": {
    "colab": {
      "provenance": [],
      "gpuType": "T4"
    },
    "kernelspec": {
      "name": "python3",
      "display_name": "Python 3"
    },
    "language_info": {
      "name": "python"
    },
    "accelerator": "GPU"
  },
  "cells": [
    {
      "cell_type": "code",
      "execution_count": 81,
      "metadata": {
        "id": "ssjSKuioYjL-",
        "colab": {
          "base_uri": "https://localhost:8080/"
        },
        "outputId": "302adf49-e967-42ff-d5b1-d301d4520f1e"
      },
      "outputs": [
        {
          "output_type": "stream",
          "name": "stdout",
          "text": [
            "Using downloaded and verified file: data/VOCtrainval_06-Nov-2007.tar\n",
            "Extracting data/VOCtrainval_06-Nov-2007.tar to data\n",
            "Using downloaded and verified file: data/VOCtrainval_06-Nov-2007.tar\n",
            "Extracting data/VOCtrainval_06-Nov-2007.tar to data\n"
          ]
        }
      ],
      "source": [
        "import torch\n",
        "import torchvision\n",
        "from torchvision import datasets, transforms\n",
        "import torch.nn as nn\n",
        "from torchvision import models\n",
        "import torch.optim as optim\n",
        "\n",
        "transform = transforms.Compose([\n",
        "    transforms.Resize((224, 224)),\n",
        "    transforms.ToTensor(),\n",
        "])\n",
        "\n",
        "train_dataset = datasets.VOCDetection(root='data', year='2007', image_set='train', download=True, transform=transform)\n",
        "val_dataset = datasets.VOCDetection(root='data', year='2007', image_set='val', download=True, transform=transform)\n",
        "\n",
        "VOC_CLASSES = ['aeroplane', 'bicycle', 'bird', 'boat', 'bottle', 'bus', 'car',\n",
        "               'cat', 'chair', 'cow', 'diningtable', 'dog', 'horse', 'motorbike',\n",
        "               'person', 'pottedplant', 'sheep', 'sofa', 'train', 'tvmonitor']\n",
        "\n",
        "def multi_label_target(annotation):\n",
        "    labels = [0] * len(VOC_CLASSES)\n",
        "    for obj in annotation['annotation']['object']:\n",
        "        class_name = obj['name']\n",
        "        if class_name in VOC_CLASSES:\n",
        "            labels[VOC_CLASSES.index(class_name)] = 1\n",
        "    return torch.tensor(labels, dtype=torch.float32)\n",
        "\n",
        "class VOCDataset(torch.utils.data.Dataset):\n",
        "    def __init__(self, voc_dataset):\n",
        "        self.voc_dataset = voc_dataset\n",
        "\n",
        "    def __len__(self):\n",
        "        return len(self.voc_dataset)\n",
        "\n",
        "    def __getitem__(self, idx):\n",
        "        image, target = self.voc_dataset[idx]\n",
        "        labels = multi_label_target(target)\n",
        "        return image, labels\n",
        "\n",
        "train_dataset = VOCDataset(train_dataset)\n",
        "val_dataset = VOCDataset(val_dataset)\n"
      ]
    },
    {
      "cell_type": "code",
      "source": [
        "\n",
        "class MyResNet(nn.Module):\n",
        "    def __init__(self, num_classes):\n",
        "        super(MyResNet, self).__init__()\n",
        "        self.resnet = models.resnet50(pretrained=True)\n",
        "        self.resnet.fc = nn.Linear(self.resnet.fc.in_features, num_classes)\n",
        "        self.sigmoid = nn.Sigmoid()\n",
        "\n",
        "    def forward(self, x):\n",
        "        x = self.resnet(x)\n",
        "        return x"
      ],
      "metadata": {
        "id": "65awwx9FQ33J"
      },
      "execution_count": 91,
      "outputs": []
    },
    {
      "cell_type": "code",
      "source": [
        "from tqdm import tqdm\n",
        "import torch.optim as optim\n",
        "import torch.nn as nn\n",
        "import torch\n",
        "import numpy as np\n",
        "from sklearn.metrics import accuracy_score, precision_score, recall_score, f1_score\n",
        "\n",
        "model1 = MyResNet(num_classes=len(VOC_CLASSES))\n",
        "optimizer = optim.Adam(model1.parameters(), lr=3e-4)\n",
        "loss_fn = nn.CrossEntropyLoss()\n",
        "train_dataloader = torch.utils.data.DataLoader(train_dataset, batch_size=16, shuffle=True)\n",
        "val_dataloader = torch.utils.data.DataLoader(val_dataset, batch_size=16, shuffle=False)\n",
        "\n",
        "device = torch.device(\"cuda\" if torch.cuda.is_available() else \"cpu\")\n",
        "model1.to(device)\n",
        "\n",
        "for epoch in range(3):\n",
        "    print(f\"Epoch {epoch + 1}:\")\n",
        "    model1.train()\n",
        "    for batch_item in tqdm(train_dataloader, desc=\"training\"):\n",
        "        images = batch_item[0].to(device)\n",
        "        labels = batch_item[1].to(device)\n",
        "\n",
        "        # Forward pass\n",
        "        res = model1(images)\n",
        "        loss = loss_fn(res, labels)\n",
        "\n",
        "        # Backward pass and optimization\n",
        "        optimizer.zero_grad()\n",
        "        loss.backward()\n",
        "        optimizer.step()\n",
        "\n",
        "    # Evaluation loop\n",
        "    predicted = []\n",
        "    gts = []\n",
        "    model1.eval()\n",
        "\n",
        "\n",
        "print(\"Finished Training\")\n"
      ],
      "metadata": {
        "colab": {
          "base_uri": "https://localhost:8080/"
        },
        "id": "nxSLEB10Q4b1",
        "outputId": "ddb979b2-8648-4a9d-e5b3-e5bd997f7398"
      },
      "execution_count": 98,
      "outputs": [
        {
          "output_type": "stream",
          "name": "stdout",
          "text": [
            "Epoch 1:\n"
          ]
        },
        {
          "output_type": "stream",
          "name": "stderr",
          "text": [
            "training: 100%|██████████| 157/157 [00:29<00:00,  5.36it/s]\n"
          ]
        },
        {
          "output_type": "stream",
          "name": "stdout",
          "text": [
            "Epoch 2:\n"
          ]
        },
        {
          "output_type": "stream",
          "name": "stderr",
          "text": [
            "training: 100%|██████████| 157/157 [00:26<00:00,  5.82it/s]\n"
          ]
        },
        {
          "output_type": "stream",
          "name": "stdout",
          "text": [
            "Epoch 3:\n"
          ]
        },
        {
          "output_type": "stream",
          "name": "stderr",
          "text": [
            "training: 100%|██████████| 157/157 [00:27<00:00,  5.81it/s]"
          ]
        },
        {
          "output_type": "stream",
          "name": "stdout",
          "text": [
            "Finished Training\n"
          ]
        },
        {
          "output_type": "stream",
          "name": "stderr",
          "text": [
            "\n"
          ]
        }
      ]
    }
  ]
}